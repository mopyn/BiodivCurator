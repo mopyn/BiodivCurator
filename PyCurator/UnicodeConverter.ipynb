{
 "cells": [
  {
   "attachments": {},
   "cell_type": "markdown",
   "metadata": {},
   "source": [
    "## 1. Import libraries"
   ]
  },
  {
   "cell_type": "code",
   "execution_count": 19,
   "metadata": {},
   "outputs": [],
   "source": []
  },
  {
   "attachments": {},
   "cell_type": "markdown",
   "metadata": {},
   "source": [
    "## 2. Define converter function"
   ]
  },
  {
   "attachments": {},
   "cell_type": "markdown",
   "metadata": {},
   "source": [
    "Functions to convert symbols to super- or subscript"
   ]
  },
  {
   "cell_type": "code",
   "execution_count": 108,
   "metadata": {},
   "outputs": [],
   "source": [
    "# Source: https://www.geeksforgeeks.org/how-to-print-superscript-and-subscript-in-python/\n",
    "# function to convert to superscript\n",
    "def get_super(x):\n",
    "    normal = \"ABCDEFGHIJKLMNOPQRSTUVWXYZabcdefghijklmnopqrstuvwxyz0123456789+-=()\"\n",
    "    super_s = \"ᴬᴮᶜᴰᴱᶠᴳᴴᴵᴶᴷᴸᴹᴺᴼᴾQᴿˢᵀᵁⱽᵂˣʸᶻᵃᵇᶜᵈᵉᶠᵍʰᶦʲᵏˡᵐⁿᵒᵖ۹ʳˢᵗᵘᵛʷˣʸᶻ⁰¹²³⁴⁵⁶⁷⁸⁹⁺⁻⁼⁽⁾\"\n",
    "    res = x.maketrans(''.join(normal), ''.join(super_s))\n",
    "    return x.translate(res)\n",
    "\n",
    "# function to convert to subscript\n",
    "def get_sub(x):\n",
    "    normal = \"ABCDEFGHIJKLMNOPQRSTUVWXYZabcdefghijklmnopqrstuvwxyz0123456789+-=()\"\n",
    "    sub_s = \"ₐ₈CDₑբGₕᵢⱼₖₗₘₙₒₚQᵣₛₜᵤᵥwₓᵧZₐ♭꜀ᑯₑբ₉ₕᵢⱼₖₗₘₙₒₚ૧ᵣₛₜᵤᵥwₓᵧ₂₀₁₂₃₄₅₆₇₈₉₊₋₌₍₎\"\n",
    "    res = x.maketrans(''.join(normal), ''.join(sub_s))\n",
    "    return x.translate(res)"
   ]
  },
  {
   "attachments": {},
   "cell_type": "markdown",
   "metadata": {},
   "source": [
    "Function to convert substrings in string based on symbol library"
   ]
  },
  {
   "cell_type": "code",
   "execution_count": null,
   "metadata": {},
   "outputs": [],
   "source": [
    "# Function to replace symbols in text string\n",
    "def replace_text(text, library):\n",
    "    \"\"\"Function to replace symbols in text string\n",
    "\n",
    "    Args:\n",
    "        text = (str): Single text string\n",
    "        library (list): List of substrings to be replaced\n",
    "        corrected (list): List of substrings that replace existing substrings\n",
    "    \"\"\"\n",
    "    # Loop over library and replace words\n",
    "    for word, replacement in library.items():\n",
    "        text = text.replace(word, replacement)\n",
    "\n",
    "    return text"
   ]
  },
  {
   "attachments": {},
   "cell_type": "markdown",
   "metadata": {},
   "source": [
    "### Get sub- or superscript"
   ]
  },
  {
   "attachments": {},
   "cell_type": "markdown",
   "metadata": {},
   "source": [
    "Get Superscript"
   ]
  },
  {
   "cell_type": "code",
   "execution_count": 141,
   "metadata": {},
   "outputs": [
    {
     "data": {
      "text/plain": [
       "'ᵗʰ'"
      ]
     },
     "execution_count": 141,
     "metadata": {},
     "output_type": "execute_result"
    }
   ],
   "source": [
    "get_super(\"th\")"
   ]
  },
  {
   "attachments": {},
   "cell_type": "markdown",
   "metadata": {},
   "source": [
    "Get Subscript"
   ]
  },
  {
   "cell_type": "code",
   "execution_count": 137,
   "metadata": {},
   "outputs": [
    {
     "data": {
      "text/plain": [
       "'₄'"
      ]
     },
     "execution_count": 137,
     "metadata": {},
     "output_type": "execute_result"
    }
   ],
   "source": [
    "get_sub(\"4\")"
   ]
  },
  {
   "attachments": {},
   "cell_type": "markdown",
   "metadata": {},
   "source": [
    "## 3. Create conversion library"
   ]
  },
  {
   "cell_type": "code",
   "execution_count": 139,
   "metadata": {},
   "outputs": [
    {
     "data": {
      "text/plain": [
       "{'N2': 'N₂',\n",
       " 'NO3-': 'NO₃⁻',\n",
       " 'HgCl2': 'HgCl₂',\n",
       " '2-': '₂⁻',\n",
       " '15N': '¹⁵N',\n",
       " 'NH4+': 'NH₄⁺',\n",
       " '18O': '¹⁸O',\n",
       " 'O2': 'O₂',\n",
       " 'PO43-': 'PO₄³⁻'}"
      ]
     },
     "execution_count": 139,
     "metadata": {},
     "output_type": "execute_result"
    }
   ],
   "source": [
    "# Create dictionary from long and short names\n",
    "library = {'N2': 'N₂', \n",
    "            'NO3-': 'NO₃⁻', \n",
    "            'HgCl2': 'HgCl₂', \n",
    "            '2-': '₂⁻',\n",
    "            '15N': '¹⁵N',\n",
    "            'NH4+': 'NH₄⁺',\n",
    "            '18O': '¹⁸O',\n",
    "            'O2': 'O₂',\n",
    "            'PO43-': 'PO₄³⁻'\n",
    "            }\n",
    "library"
   ]
  },
  {
   "attachments": {},
   "cell_type": "markdown",
   "metadata": {},
   "source": [
    "## 4. Convert text"
   ]
  },
  {
   "attachments": {},
   "cell_type": "markdown",
   "metadata": {},
   "source": [
    "Paste text here"
   ]
  },
  {
   "cell_type": "code",
   "execution_count": 131,
   "metadata": {},
   "outputs": [
    {
     "data": {
      "text/plain": [
       "'Upwelling systems are significant sources of atmospheric nitrous oxide (N2O). The Benguela Upwelling System is one of the most productive regions worldwide and a temporally variable source of N2O. Strong O2 depletions above the shelf are favoring periodically OMZ formations. We aimed to assess underlying N2O production and consumption processes on different temporal and spatial scales during austral winter in the Benguela Upwelling System, when O2-deficiency in the water column is relatively low. The fieldwork took place during the cruise M157 (August 4th – September 16th 2019) onboard the R/V METEOR. This expedition included four close-coastal regions around Walvis Bay at 23°S, which presented the lowest O2 concentrations near the seafloor and thus may provide hotspots of N2O production. Seawater was collected in 10 L free-flow bottles by using a rosette system equipped with conductivity-temperature-depth (CTD) sensors (SBE 911plus, Seabird-electronics, USA).Concentrations of inorganic nutrients (PO43-, NH4+, NO3-, NO2-, and SiO2) were measured colorimetrically according to Grasshoff et al. (1999) by means of a continuous segmented flow analyzer (SEAL Analytical, QuAAtro39). To determine the water mass fractions along the sampling transects, vertical profiles were collected using a free-falling microstructure profiler (MSS90L, Sea & Sun Technology). Temperature, dissolved oxygen, and salinity were measured with a CTD system consisting of a SeaBird 911+ probe, mounted on a sampling rosette.'"
      ]
     },
     "execution_count": 131,
     "metadata": {},
     "output_type": "execute_result"
    }
   ],
   "source": [
    "text = 'Upwelling systems are significant sources of atmospheric nitrous oxide (N2O). The Benguela Upwelling System is one of the most productive regions worldwide and a temporally variable source of N2O. Strong O2 depletions above the shelf are favoring periodically OMZ formations. We aimed to assess underlying N2O production and consumption processes on different temporal and spatial scales during austral winter in the Benguela Upwelling System, when O2-deficiency in the water column is relatively low. \\\n",
    "The fieldwork took place during the cruise M157 (August 4th – September 16th 2019) onboard the R/V METEOR. This expedition included four close-coastal regions around Walvis Bay at 23°S, which presented the lowest O2 concentrations near the seafloor and thus may provide hotspots of N2O production. Seawater was collected in 10 L free-flow bottles by using a rosette system equipped with conductivity-temperature-depth (CTD) sensors (SBE 911plus, Seabird-electronics, USA).\\\n",
    "Concentrations of inorganic nutrients (PO43-, NH4+, NO3-, NO2-, and SiO2) were measured colorimetrically according to Grasshoff et al. (1999) by means of a continuous segmented flow analyzer (SEAL Analytical, QuAAtro39). To determine the water mass fractions along the sampling transects, vertical profiles were collected using a free-falling microstructure profiler (MSS90L, Sea & Sun Technology). Temperature, dissolved oxygen, and salinity were measured with a CTD system consisting of a SeaBird 911+ probe, mounted on a sampling rosette.'\n",
    "text"
   ]
  },
  {
   "attachments": {},
   "cell_type": "markdown",
   "metadata": {},
   "source": [
    "Replace text"
   ]
  },
  {
   "cell_type": "code",
   "execution_count": 140,
   "metadata": {},
   "outputs": [
    {
     "data": {
      "text/plain": [
       "'Upwelling systems are significant sources of atmospheric nitrous oxide (N₂O). The Benguela Upwelling System is one of the most productive regions worldwide and a temporally variable source of N₂O. Strong O₂ depletions above the shelf are favoring periodically OMZ formations. We aimed to assess underlying N₂O production and consumption processes on different temporal and spatial scales during austral winter in the Benguela Upwelling System, when O₂⁻deficiency in the water column is relatively low. The fieldwork took place during the cruise M157 (August 4th – September 16th 2019) onboard the R/V METEOR. This expedition included four close-coastal regions around Walvis Bay at 23°S, which presented the lowest O₂ concentrations near the seafloor and thus may provide hotspots of N₂O production. Seawater was collected in 10 L free-flow bottles by using a rosette system equipped with conductivity-temperature-depth (CTD) sensors (SBE 911plus, Seabird-electronics, USA).Concentrations of inorganic nutrients (PO₄³⁻, NH₄⁺, NO₃⁻, NO₂⁻, and SiO₂) were measured colorimetrically according to Grasshoff et al. (1999) by means of a continuous segmented flow analyzer (SEAL Analytical, QuAAtro39). To determine the water mass fractions along the sampling transects, vertical profiles were collected using a free-falling microstructure profiler (MSS90L, Sea & Sun Technology). Temperature, dissolved oxygen, and salinity were measured with a CTD system consisting of a SeaBird 911+ probe, mounted on a sampling rosette.'"
      ]
     },
     "execution_count": 140,
     "metadata": {},
     "output_type": "execute_result"
    }
   ],
   "source": [
    "replace_text(text, library)"
   ]
  }
 ],
 "metadata": {
  "kernelspec": {
   "display_name": ".venv",
   "language": "python",
   "name": "python3"
  },
  "language_info": {
   "codemirror_mode": {
    "name": "ipython",
    "version": 3
   },
   "file_extension": ".py",
   "mimetype": "text/x-python",
   "name": "python",
   "nbconvert_exporter": "python",
   "pygments_lexer": "ipython3",
   "version": "3.10.4"
  },
  "orig_nbformat": 4,
  "vscode": {
   "interpreter": {
    "hash": "ab424e4dc2e74cacaae9c1f914107a9f781b476e0d613ee58688e62f3501b19d"
   }
  }
 },
 "nbformat": 4,
 "nbformat_minor": 2
}
